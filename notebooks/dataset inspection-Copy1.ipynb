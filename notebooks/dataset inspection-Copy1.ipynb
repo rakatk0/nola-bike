{
 "cells": [
  {
   "cell_type": "markdown",
   "metadata": {},
   "source": [
    "### Dataset Inspection\n",
    "\n",
    "This notebook provides initial glimpse into variety of datasets acquired.\n",
    "\n",
    "#### Bike Lanes\n",
    "#### Police Incident Reports 2019\n",
    "#### Traffic Camera Violations \n"
   ]
  }
 ],
 "metadata": {
  "kernelspec": {
   "display_name": "Python 3",
   "language": "python",
   "name": "python3"
  },
  "language_info": {
   "codemirror_mode": {
    "name": "ipython",
    "version": 3
   },
   "file_extension": ".py",
   "mimetype": "text/x-python",
   "name": "python",
   "nbconvert_exporter": "python",
   "pygments_lexer": "ipython3",
   "version": "3.7.4"
  }
 },
 "nbformat": 4,
 "nbformat_minor": 2
}
